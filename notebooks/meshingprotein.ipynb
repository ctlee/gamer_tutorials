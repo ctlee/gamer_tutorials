{
 "cells": [
  {
   "cell_type": "markdown",
   "metadata": {},
   "source": [
    "# Meshing a protein using PyGAMer\n",
    "\n",
    "This tutorial will walk you through the process of using PyGAMer to generate a tetrahedral mesh of the volume surrounding a protein. The protein of interest, PDBID 2JHO, is that of sperm whale myoglobin at 1.4Å resolution."
   ]
  },
  {
   "cell_type": "code",
   "execution_count": 1,
   "metadata": {},
   "outputs": [],
   "source": [
    "# Load in PyGAMer and numpy\n",
    "import pygamer\n",
    "import numpy as np\n",
    "# We will use threevis to visualize the mesh in the notebook\n",
    "import threevis"
   ]
  },
  {
   "cell_type": "code",
   "execution_count": 2,
   "metadata": {},
   "outputs": [],
   "source": [
    "# Mesh the protein of interest\n",
    "mesh = pygamer.readPDB_molsurf('../data/2jho.pdb')"
   ]
  },
  {
   "cell_type": "markdown",
   "metadata": {},
   "source": [
    "When using PyGAMer it's important to initialize the orientation of the simplices. Notably `compute_orientation()` will try to apply a self consistent set of orientations. In many cases, you may wish to ensure that the mesh normals are outward facing. This can be achieved by calling `correctNormals()` which essentially computes the volume of the bounded surface and flips the normals if the volume is negative."
   ]
  },
  {
   "cell_type": "code",
   "execution_count": 3,
   "metadata": {},
   "outputs": [],
   "source": [
    "# Compute the normal orientation\n",
    "mesh.compute_orientation()\n",
    "mesh.correctNormals()"
   ]
  },
  {
   "cell_type": "markdown",
   "metadata": {},
   "source": [
    "## Conditioning the protein mesh"
   ]
  },
  {
   "cell_type": "code",
   "execution_count": 4,
   "metadata": {},
   "outputs": [
    {
     "name": "stdout",
     "output_type": "stream",
     "text": [
      "Initial Quality: Min Angle = 18.2858, Max Angle = 139.106, # smaller-than-15 = 0, # larger-than-165 = 0\n",
      "Iteration 1:\n",
      "Min Angle = 16.9737, Max Angle = 131.859, # smaller-than-15 = 0, # larger-than-165 = 0\n",
      "Iteration 2:\n",
      "Min Angle = 17.7987, Max Angle = 130.704, # smaller-than-15 = 0, # larger-than-165 = 0\n",
      "Iteration 3:\n",
      "Min Angle = 18.8562, Max Angle = 129.027, # smaller-than-15 = 0, # larger-than-165 = 0\n",
      "Iteration 4:\n",
      "Min Angle = 19.0814, Max Angle = 127.025, # smaller-than-15 = 0, # larger-than-165 = 0\n",
      "Iteration 5:\n",
      "Min Angle = 19.3171, Max Angle = 124.929, # smaller-than-15 = 0, # larger-than-165 = 0\n"
     ]
    }
   ],
   "source": [
    "# Set selection of all vertices to True so smooth will operate on them.\n",
    "for v in mesh.vertexIDs:\n",
    "    v.data().selected = True\n",
    "# Apply 5 iterations of smoothing\n",
    "mesh.smooth(max_iter=5, preserve_ridges=True, verbose=True)"
   ]
  },
  {
   "cell_type": "code",
   "execution_count": 5,
   "metadata": {},
   "outputs": [
    {
     "name": "stdout",
     "output_type": "stream",
     "text": [
      "The mesh currently has 43080 vertices, 129234 edges, and 86156 faces.\n"
     ]
    }
   ],
   "source": [
    "print(F\"The mesh currently has {mesh.nVertices} vertices, \\\n",
    "{mesh.nEdges} edges, and {mesh.nFaces} faces.\")"
   ]
  },
  {
   "cell_type": "markdown",
   "metadata": {},
   "source": [
    "That's a lot of vertices! Here's what the protein mesh looks like at this point. `threevis` provides a convenient way to visualize meshes inside of a jupyter-notebook. It uses arrays of vertex positions, edge and face vertex indices. These arrays can be generated using the `to_ndarray()` function."
   ]
  },
  {
   "cell_type": "code",
   "execution_count": 6,
   "metadata": {},
   "outputs": [
    {
     "data": {
      "application/vnd.jupyter.widget-view+json": {
       "model_id": "0870db3a451f4d83875c6fd5e30d59ac",
       "version_major": 2,
       "version_minor": 0
      },
      "text/plain": [
       "Renderer(background='#dddddd', camera=PerspectiveCamera(aspect=1.3333333333333333, children=(DirectionalLight(…"
      ]
     },
     "metadata": {},
     "output_type": "display_data"
    }
   ],
   "source": [
    "protverts, protedges, protfaces = mesh.to_ndarray()\n",
    "ctx = threevis.Context(width=640, height=480)\n",
    "ctx.draw_faces(protverts, protfaces)\n",
    "ctx.draw_edges(protverts, protedges)\n",
    "ctx.display()"
   ]
  },
  {
   "cell_type": "markdown",
   "metadata": {},
   "source": [
    "### Iterative Coarsening\n",
    "\n",
    "Depending on your problem, you may wish to coarsen or decimate the mesh. Basically reduce the number of vertices. GAMer offers several functions to help you with this goal."
   ]
  },
  {
   "cell_type": "code",
   "execution_count": 7,
   "metadata": {},
   "outputs": [
    {
     "name": "stdout",
     "output_type": "stream",
     "text": [
      "Iteration 0: 29137 vertices, 87405 edges, and 58270 faces.\n",
      "Iteration 1: 22393 vertices, 67173 edges, and 44782 faces.\n",
      "Iteration 2: 17819 vertices, 53451 edges, and 35634 faces.\n",
      "Iteration 3: 14448 vertices, 43338 edges, and 28892 faces.\n",
      "Iteration 4: 11923 vertices, 35763 edges, and 23842 faces.\n",
      "Iteration 5: 9933 vertices, 29793 edges, and 19862 faces.\n",
      "Iteration 6: 8283 vertices, 24843 edges, and 16562 faces.\n",
      "Iteration 7: 6954 vertices, 20856 edges, and 13904 faces.\n",
      "Iteration 8: 5857 vertices, 17565 edges, and 11710 faces.\n",
      "Iteration 9: 4986 vertices, 14952 edges, and 9968 faces.\n",
      "Iteration 10: 4216 vertices, 12642 edges, and 8428 faces.\n",
      "Iteration 11: 3572 vertices, 10710 edges, and 7140 faces.\n",
      "Iteration 12: 3041 vertices, 9117 edges, and 6078 faces.\n",
      "Iteration 13: 2608 vertices, 7818 edges, and 5212 faces.\n",
      "Iteration 14: 2214 vertices, 6636 edges, and 4424 faces.\n",
      "Iteration 15: 1937 vertices, 5805 edges, and 3870 faces.\n",
      "Iteration 16: 1679 vertices, 5031 edges, and 3354 faces.\n"
     ]
    },
    {
     "ename": "RuntimeError",
     "evalue": "ERROR(getNormal): Orientation undefined, cannot compute normal. Did you call compute_orientation()?",
     "output_type": "error",
     "traceback": [
      "\u001b[0;31m---------------------------------------------------------------------------\u001b[0m",
      "\u001b[0;31mRuntimeError\u001b[0m                              Traceback (most recent call last)",
      "\u001b[0;32m<ipython-input-7-87d08389a156>\u001b[0m in \u001b[0;36m<module>\u001b[0;34m\u001b[0m\n\u001b[1;32m      3\u001b[0m     \u001b[0mmesh\u001b[0m\u001b[0;34m.\u001b[0m\u001b[0mcoarse_dense\u001b[0m\u001b[0;34m(\u001b[0m\u001b[0mrate\u001b[0m \u001b[0;34m=\u001b[0m \u001b[0;36m3\u001b[0m\u001b[0;34m,\u001b[0m \u001b[0mnumiter\u001b[0m \u001b[0;34m=\u001b[0m \u001b[0;36m1\u001b[0m\u001b[0;34m)\u001b[0m\u001b[0;34m\u001b[0m\u001b[0;34m\u001b[0m\u001b[0m\n\u001b[1;32m      4\u001b[0m     \u001b[0;31m# Coarsen flat regions of the mesh\u001b[0m\u001b[0;34m\u001b[0m\u001b[0;34m\u001b[0m\u001b[0;34m\u001b[0m\u001b[0m\n\u001b[0;32m----> 5\u001b[0;31m     \u001b[0mmesh\u001b[0m\u001b[0;34m.\u001b[0m\u001b[0mcoarse_flat\u001b[0m\u001b[0;34m(\u001b[0m\u001b[0mrate\u001b[0m \u001b[0;34m=\u001b[0m \u001b[0;36m0.1\u001b[0m\u001b[0;34m,\u001b[0m \u001b[0mnumiter\u001b[0m \u001b[0;34m=\u001b[0m \u001b[0;36m1\u001b[0m\u001b[0;34m)\u001b[0m\u001b[0;34m\u001b[0m\u001b[0;34m\u001b[0m\u001b[0m\n\u001b[0m\u001b[1;32m      6\u001b[0m     \u001b[0mmesh\u001b[0m\u001b[0;34m.\u001b[0m\u001b[0msmooth\u001b[0m\u001b[0;34m(\u001b[0m\u001b[0mmax_iter\u001b[0m \u001b[0;34m=\u001b[0m \u001b[0;36m3\u001b[0m\u001b[0;34m,\u001b[0m \u001b[0mpreserve_ridges\u001b[0m \u001b[0;34m=\u001b[0m \u001b[0;32mTrue\u001b[0m\u001b[0;34m,\u001b[0m \u001b[0mverbose\u001b[0m \u001b[0;34m=\u001b[0m \u001b[0;32mFalse\u001b[0m\u001b[0;34m)\u001b[0m\u001b[0;34m\u001b[0m\u001b[0;34m\u001b[0m\u001b[0m\n\u001b[1;32m      7\u001b[0m     print(F\"Iteration {i}: {mesh.nVertices} vertices, \\\n",
      "\u001b[0;31mRuntimeError\u001b[0m: ERROR(getNormal): Orientation undefined, cannot compute normal. Did you call compute_orientation()?"
     ]
    }
   ],
   "source": [
    "for i in range(25):\n",
    "    # Coarsen dense regions of the mesh\n",
    "    mesh.coarse_dense(rate = 3, numiter = 1)\n",
    "    # Coarsen flat regions of the mesh\n",
    "    mesh.coarse_flat(rate = 0.1, numiter = 1)\n",
    "    mesh.smooth(max_iter = 3, preserve_ridges = True, verbose = False)\n",
    "    print(F\"Iteration {i}: {mesh.nVertices} vertices, \\\n",
    "{mesh.nEdges} edges, and {mesh.nFaces} faces.\")"
   ]
  },
  {
   "cell_type": "code",
   "execution_count": null,
   "metadata": {},
   "outputs": [],
   "source": [
    "# Smooth the mesh again.\n",
    "mesh.smooth(max_iter = 10, preserve_ridges = True, verbose = True)"
   ]
  },
  {
   "cell_type": "code",
   "execution_count": 9,
   "metadata": {},
   "outputs": [],
   "source": [
    "pygamer.writeOFF('test.off', mesh)"
   ]
  },
  {
   "cell_type": "code",
   "execution_count": null,
   "metadata": {},
   "outputs": [],
   "source": [
    "# Set boundary markers of the mesh to 23\n",
    "for faceID in mesh.faceIDs:\n",
    "    faceID.data().marker = 23"
   ]
  },
  {
   "cell_type": "code",
   "execution_count": null,
   "metadata": {},
   "outputs": [],
   "source": [
    "# Get the root metadata\n",
    "gInfo = mesh.getRoot()\n",
    "gInfo.ishole = True    # Don't mesh the inside of \n",
    "gInfo.marker = -1"
   ]
  },
  {
   "cell_type": "code",
   "execution_count": null,
   "metadata": {},
   "outputs": [],
   "source": [
    "# Center mesh at 0,0,0\n",
    "center, radius = mesh.getCenterRadius()\n",
    "mesh.translate(-center)"
   ]
  },
  {
   "cell_type": "markdown",
   "metadata": {},
   "source": [
    "## Visualizing the mesh with threevis"
   ]
  },
  {
   "cell_type": "code",
   "execution_count": 8,
   "metadata": {},
   "outputs": [
    {
     "data": {
      "application/vnd.jupyter.widget-view+json": {
       "model_id": "0da37f5eabf5499cb1c48c2b267020c9",
       "version_major": 2,
       "version_minor": 0
      },
      "text/plain": [
       "Renderer(background='#dddddd', camera=PerspectiveCamera(aspect=1.3333333333333333, children=(DirectionalLight(…"
      ]
     },
     "metadata": {},
     "output_type": "display_data"
    }
   ],
   "source": [
    "# Convert mesh to numpy arrays for visualization using threevis\n",
    "import threevis\n",
    "\n",
    "protverts, protedges, protfaces = mesh.to_ndarray()\n",
    "ctx = threevis.Context(width=640, height=480)\n",
    "ctx.draw_faces(protverts, protfaces)\n",
    "ctx.draw_edges(protverts, protedges)\n",
    "# Finally display it\n",
    "ctx.display()"
   ]
  },
  {
   "cell_type": "code",
   "execution_count": null,
   "metadata": {},
   "outputs": [],
   "source": []
  },
  {
   "cell_type": "markdown",
   "metadata": {},
   "source": [
    "## Now let's construct a bounding box to represent the cytosol around the protein"
   ]
  },
  {
   "cell_type": "code",
   "execution_count": null,
   "metadata": {},
   "outputs": [],
   "source": [
    "# Generate a surrounding box\n",
    "box = pygamer.surfacemesh.cube(5)"
   ]
  },
  {
   "cell_type": "code",
   "execution_count": null,
   "metadata": {},
   "outputs": [],
   "source": [
    "# Set box boundary markers to 50\n",
    "for faceID in box.faceIDs:\n",
    "    faceID.data().marker = 50"
   ]
  },
  {
   "cell_type": "code",
   "execution_count": null,
   "metadata": {},
   "outputs": [],
   "source": [
    "# Get and set box metadata\n",
    "gInfo = box.getRoot()\n",
    "gInfo.ishole = False\n",
    "gInfo.marker = 5"
   ]
  },
  {
   "cell_type": "code",
   "execution_count": null,
   "metadata": {},
   "outputs": [],
   "source": [
    "# Scale the box by 2 times the radius of the protein mesh\n",
    "box.scale(radius*2)"
   ]
  },
  {
   "cell_type": "code",
   "execution_count": null,
   "metadata": {},
   "outputs": [],
   "source": [
    "boxverts, boxedges, boxfaces = box.to_ndarray()\n",
    "ctx = threevis.Context(width=640, height=480)\n",
    "ctx.draw_faces(boxverts, boxfaces)\n",
    "ctx.draw_edges(boxverts, boxedges)\n",
    "# Finally display it\n",
    "ctx.display()"
   ]
  },
  {
   "cell_type": "code",
   "execution_count": null,
   "metadata": {},
   "outputs": [],
   "source": [
    "# Draw the protein and surrounding box together\n",
    "ctx = threevis.Context(width=640, height=480)\n",
    "ctx.draw_faces(protverts, protfaces)\n",
    "ctx.draw_edges(boxverts, boxedges)\n",
    "ctx.display()"
   ]
  },
  {
   "cell_type": "markdown",
   "metadata": {},
   "source": [
    "Write the meshes to file...\n",
    "`pygamer.writeOFF('2jho.off', mesh)`\n",
    "`pygamer.writeOFF('box.off', box)`"
   ]
  },
  {
   "cell_type": "markdown",
   "metadata": {},
   "source": [
    "## Tetrahedralizing"
   ]
  },
  {
   "cell_type": "code",
   "execution_count": null,
   "metadata": {},
   "outputs": [],
   "source": [
    "# Construct a list of meshes to pass into TetGen\n",
    "meshes = [mesh, box]"
   ]
  },
  {
   "cell_type": "code",
   "execution_count": null,
   "metadata": {},
   "outputs": [],
   "source": [
    "# Call tetgen to tetrahedralize. The string represents command line arguments passed directly to TetGen.\n",
    "tetmesh = pygamer.makeTetMesh(meshes, \"q1.3/10O8/7AVC\")"
   ]
  },
  {
   "cell_type": "code",
   "execution_count": null,
   "metadata": {},
   "outputs": [],
   "source": [
    "# pygamer.writeDolfin('outputTetMesh.xml', tetmesh)"
   ]
  },
  {
   "cell_type": "code",
   "execution_count": null,
   "metadata": {},
   "outputs": [],
   "source": [
    "toRemove = []\n",
    "for vertexID in tetmesh.vertexIDs:\n",
    "    if vertexID.data()[1] > 0.1:\n",
    "        toRemove.append(vertexID)\n",
    "for v in toRemove:\n",
    "    tetmesh.removeVertex(v)\n",
    "        \n",
    "surfmesh = tetmesh.extractSurface()\n",
    "# toRemove = []\n",
    "# for edgeID in surfmesh.edgeIDs:\n",
    "#     if len(surfmesh.getCover(edgeID)) < 2:\n",
    "#         toRemove.append(edgeID)\n",
    "# for e in toRemove:\n",
    "#     surfmesh.removeEdge(e)\n",
    "surfmesh.correctNormals()\n",
    "\n",
    "v, e, f = surfmesh.to_ndarray()"
   ]
  },
  {
   "cell_type": "code",
   "execution_count": null,
   "metadata": {},
   "outputs": [],
   "source": [
    "# Draw the protein and surrounding box together\n",
    "ctx = threevis.Context(width=640, height=480)\n",
    "\n",
    "rgb = np.ones((len(f), 3))\n",
    "\n",
    "for i, face in enumerate(surfmesh.faceIDs):\n",
    "    if face.data().marker == 23:\n",
    "        rgb[i,0] = 1\n",
    "        rgb[i,1] = 0\n",
    "        rgb[i,2] = 0\n",
    "    elif face.data().marker == 50:\n",
    "        rgb[i,0] = 0\n",
    "        rgb[i,1] = 0\n",
    "        rgb[i,2] = 1      \n",
    "        \n",
    "colors = threevis.FaceAttribute(rgb)\n",
    "\n",
    "ctx.draw_faces(v, f, colors=colors)\n",
    "ctx.draw_edges(v, e)\n",
    "ctx.display()"
   ]
  }
 ],
 "metadata": {
  "kernelspec": {
   "display_name": "Python 3",
   "language": "python",
   "name": "python3"
  },
  "language_info": {
   "codemirror_mode": {
    "name": "ipython",
    "version": 3
   },
   "file_extension": ".py",
   "mimetype": "text/x-python",
   "name": "python",
   "nbconvert_exporter": "python",
   "pygments_lexer": "ipython3",
   "version": "3.6.8"
  }
 },
 "nbformat": 4,
 "nbformat_minor": 2
}
