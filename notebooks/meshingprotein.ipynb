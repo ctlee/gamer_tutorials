{
 "cells": [
  {
   "cell_type": "markdown",
   "metadata": {},
   "source": [
    "# Meshing a protein using PyGAMer\n",
    "\n",
    "This tutorial will walk you through the process of using PyGAMer to generate a tetrahedral mesh of the volume surrounding a protein. The protein of interest, PDBID 2JHO, is that of sperm whale myoglobin at 1.4Å resolution."
   ]
  },
  {
   "cell_type": "code",
   "execution_count": 1,
   "metadata": {},
   "outputs": [],
   "source": [
    "# Load in PyGAMer and numpy\n",
    "import pygamer\n",
    "import numpy as np"
   ]
  },
  {
   "cell_type": "code",
   "execution_count": 2,
   "metadata": {},
   "outputs": [],
   "source": [
    "# Mesh the protein of interest\n",
    "mesh = pygamer.readPDB_molsurf('../data/2jho.pdb')"
   ]
  },
  {
   "cell_type": "markdown",
   "metadata": {},
   "source": [
    "When using PyGAMer it's important to initialize the orientation of the simplices. Notably `compute_orientation()` will try to apply a self consistent set of orientations. In many cases, you may wish to ensure that the mesh normals are outward facing. This can be achieved by calling `correctNormals()` which essentially computes the volume of the bounded surface and flips the normals if the volume is negative."
   ]
  },
  {
   "cell_type": "code",
   "execution_count": 3,
   "metadata": {},
   "outputs": [],
   "source": [
    "# Compute the normal orientation\n",
    "mesh.compute_orientation()\n",
    "mesh.correctNormals()"
   ]
  },
  {
   "cell_type": "markdown",
   "metadata": {},
   "source": [
    "### Conditioning the protein mesh"
   ]
  },
  {
   "cell_type": "code",
   "execution_count": 4,
   "metadata": {},
   "outputs": [
    {
     "name": "stdout",
     "output_type": "stream",
     "text": [
      "Initial Quality: Min Angle = 18.2858, Max Angle = 139.106, # smaller-than-15 = 0, # larger-than-165 = 0\n",
      "Iteration 1:\n",
      "Min Angle = 16.9737, Max Angle = 131.859, # smaller-than-15 = 0, # larger-than-165 = 0\n",
      "Iteration 2:\n",
      "Min Angle = 17.7987, Max Angle = 130.704, # smaller-than-15 = 0, # larger-than-165 = 0\n",
      "Iteration 3:\n",
      "Min Angle = 18.8562, Max Angle = 129.027, # smaller-than-15 = 0, # larger-than-165 = 0\n",
      "Iteration 4:\n",
      "Min Angle = 19.0814, Max Angle = 127.025, # smaller-than-15 = 0, # larger-than-165 = 0\n",
      "Iteration 5:\n",
      "Min Angle = 19.3171, Max Angle = 124.929, # smaller-than-15 = 0, # larger-than-165 = 0\n"
     ]
    }
   ],
   "source": [
    "# Set selection of all vertices to True so smooth will operate on them.\n",
    "for v in mesh.vertexIDs:\n",
    "    v.data().selected = True\n",
    "# Apply 5 iterations of smoothing\n",
    "mesh.smooth(max_iter=5, preserve_ridges=True, verbose=True)"
   ]
  },
  {
   "cell_type": "code",
   "execution_count": 5,
   "metadata": {},
   "outputs": [
    {
     "name": "stdout",
     "output_type": "stream",
     "text": [
      "The mesh has 43080 vertices, 129234 edges, and 86156 faces before coarsening.\n"
     ]
    }
   ],
   "source": [
    "print(F\"The mesh has {mesh.nVertices} vertices, \\\n",
    "{mesh.nEdges} edges, and {mesh.nFaces} faces before coarsening.\")"
   ]
  },
  {
   "cell_type": "code",
   "execution_count": 6,
   "metadata": {},
   "outputs": [],
   "source": [
    "# Coarsen dense regions of the mesh\n",
    "mesh.coarse_dense(rate = 2.5, numiter = 5)\n",
    "# Coarsen flat regions of the mesh\n",
    "mesh.coarse_flat(rate = 0.016, numiter = 5)"
   ]
  },
  {
   "cell_type": "code",
   "execution_count": 7,
   "metadata": {},
   "outputs": [
    {
     "name": "stdout",
     "output_type": "stream",
     "text": [
      "The mesh has 20557 vertices, 61665 edges, and 41110 faces after coarsening.\n"
     ]
    }
   ],
   "source": [
    "print(F\"The mesh has {mesh.nVertices} vertices, \\\n",
    "{mesh.nEdges} edges, and {mesh.nFaces} faces after coarsening.\")"
   ]
  },
  {
   "cell_type": "code",
   "execution_count": 8,
   "metadata": {},
   "outputs": [
    {
     "name": "stdout",
     "output_type": "stream",
     "text": [
      "Initial Quality: Min Angle = 16.2006, Max Angle = 142.923, # smaller-than-15 = 0, # larger-than-165 = 0\n",
      "Iteration 1:\n",
      "Min Angle = 18.8613, Max Angle = 134.942, # smaller-than-15 = 0, # larger-than-165 = 0\n",
      "Iteration 2:\n",
      "Min Angle = 20.2917, Max Angle = 139.243, # smaller-than-15 = 0, # larger-than-165 = 0\n",
      "Iteration 3:\n",
      "Min Angle = 20.587, Max Angle = 138.581, # smaller-than-15 = 0, # larger-than-165 = 0\n",
      "Iteration 4:\n",
      "Min Angle = 21.8959, Max Angle = 135.194, # smaller-than-15 = 0, # larger-than-165 = 0\n",
      "Iteration 5:\n",
      "Min Angle = 21.3159, Max Angle = 134.636, # smaller-than-15 = 0, # larger-than-165 = 0\n",
      "Iteration 6:\n",
      "Min Angle = 21.5009, Max Angle = 134.639, # smaller-than-15 = 0, # larger-than-165 = 0\n",
      "Iteration 7:\n",
      "Min Angle = 21.7618, Max Angle = 133.811, # smaller-than-15 = 0, # larger-than-165 = 0\n",
      "Iteration 8:\n",
      "Min Angle = 21.9273, Max Angle = 133.476, # smaller-than-15 = 0, # larger-than-165 = 0\n",
      "Iteration 9:\n",
      "Min Angle = 22.2849, Max Angle = 133.015, # smaller-than-15 = 0, # larger-than-165 = 0\n",
      "Iteration 10:\n",
      "Min Angle = 22.7803, Max Angle = 132.273, # smaller-than-15 = 0, # larger-than-165 = 0\n"
     ]
    }
   ],
   "source": [
    "# Smooth the mesh again.\n",
    "mesh.smooth(max_iter = 10, preserve_ridges = True, verbose = True)"
   ]
  },
  {
   "cell_type": "code",
   "execution_count": 9,
   "metadata": {},
   "outputs": [],
   "source": [
    "# Set boundary markers of the mesh to 23\n",
    "for faceID in mesh.faceIDs:\n",
    "    faceID.data().marker = 23"
   ]
  },
  {
   "cell_type": "code",
   "execution_count": 10,
   "metadata": {},
   "outputs": [],
   "source": [
    "# Get the root metadata\n",
    "gInfo = mesh.getRoot()\n",
    "gInfo.ishole = True    # Don't mesh the inside of \n",
    "gInfo.marker = -1"
   ]
  },
  {
   "cell_type": "code",
   "execution_count": 11,
   "metadata": {},
   "outputs": [],
   "source": [
    "# Center mesh at 0,0,0\n",
    "center, radius = mesh.getCenterRadius()\n",
    "mesh.translate(-center)"
   ]
  },
  {
   "cell_type": "markdown",
   "metadata": {},
   "source": [
    "## Visualizing the mesh with threevis"
   ]
  },
  {
   "cell_type": "code",
   "execution_count": 12,
   "metadata": {},
   "outputs": [
    {
     "data": {
      "application/vnd.jupyter.widget-view+json": {
       "model_id": "74a36dde1da6402aa035eb35badae379",
       "version_major": 2,
       "version_minor": 0
      },
      "text/plain": [
       "Renderer(background='#dddddd', camera=PerspectiveCamera(aspect=1.3333333333333333, children=(DirectionalLight(…"
      ]
     },
     "metadata": {},
     "output_type": "display_data"
    }
   ],
   "source": [
    "# Convert mesh to numpy arrays for visualization using threevis\n",
    "import threevis\n",
    "\n",
    "protverts, protedges, protfaces = mesh.to_ndarray()\n",
    "ctx = threevis.Context(width=640, height=480)\n",
    "ctx.draw_faces(protverts, protfaces)\n",
    "ctx.draw_edges(protverts, protedges)\n",
    "# Finally display it\n",
    "ctx.display()"
   ]
  },
  {
   "cell_type": "code",
   "execution_count": null,
   "metadata": {},
   "outputs": [],
   "source": []
  },
  {
   "cell_type": "markdown",
   "metadata": {},
   "source": [
    "## Now let's construct a bounding box to represent the cytosol around the protein"
   ]
  },
  {
   "cell_type": "code",
   "execution_count": 13,
   "metadata": {},
   "outputs": [],
   "source": [
    "# Generate a surrounding box\n",
    "box = pygamer.surfacemesh.cube(5)"
   ]
  },
  {
   "cell_type": "code",
   "execution_count": 14,
   "metadata": {},
   "outputs": [],
   "source": [
    "# Set box boundary markers to 50\n",
    "for faceID in box.faceIDs:\n",
    "    faceID.data().marker = 50"
   ]
  },
  {
   "cell_type": "code",
   "execution_count": 15,
   "metadata": {},
   "outputs": [],
   "source": [
    "# Get and set box metadata\n",
    "gInfo = box.getRoot()\n",
    "gInfo.ishole = False\n",
    "gInfo.marker = 5"
   ]
  },
  {
   "cell_type": "code",
   "execution_count": 16,
   "metadata": {},
   "outputs": [],
   "source": [
    "# Scale the box by 2 times the radius of the protein mesh\n",
    "box.scale(radius*2)"
   ]
  },
  {
   "cell_type": "code",
   "execution_count": 17,
   "metadata": {},
   "outputs": [
    {
     "data": {
      "application/vnd.jupyter.widget-view+json": {
       "model_id": "f65e0ee297e545b1b137f63e4646ec50",
       "version_major": 2,
       "version_minor": 0
      },
      "text/plain": [
       "Renderer(background='#dddddd', camera=PerspectiveCamera(aspect=1.3333333333333333, children=(DirectionalLight(…"
      ]
     },
     "metadata": {},
     "output_type": "display_data"
    }
   ],
   "source": [
    "boxverts, boxedges, boxfaces = box.to_ndarray()\n",
    "ctx = threevis.Context(width=640, height=480)\n",
    "ctx.draw_faces(boxverts, boxfaces)\n",
    "ctx.draw_edges(boxverts, boxedges)\n",
    "# Finally display it\n",
    "ctx.display()"
   ]
  },
  {
   "cell_type": "code",
   "execution_count": 18,
   "metadata": {},
   "outputs": [
    {
     "data": {
      "application/vnd.jupyter.widget-view+json": {
       "model_id": "286b1979173f4ce5a6aeca8c8506bbf3",
       "version_major": 2,
       "version_minor": 0
      },
      "text/plain": [
       "Renderer(background='#dddddd', camera=PerspectiveCamera(aspect=1.3333333333333333, children=(DirectionalLight(…"
      ]
     },
     "metadata": {},
     "output_type": "display_data"
    }
   ],
   "source": [
    "# Draw the protein and surrounding box together\n",
    "ctx = threevis.Context(width=640, height=480)\n",
    "ctx.draw_faces(protverts, protfaces)\n",
    "ctx.draw_edges(boxverts, boxedges)\n",
    "ctx.display()"
   ]
  },
  {
   "cell_type": "markdown",
   "metadata": {},
   "source": [
    "Write the meshes to file...\n",
    "`pygamer.writeOFF('2jho.off', mesh)`\n",
    "`pygamer.writeOFF('box.off', box)`"
   ]
  },
  {
   "cell_type": "markdown",
   "metadata": {},
   "source": [
    "## Tetrahedralizing"
   ]
  },
  {
   "cell_type": "code",
   "execution_count": 19,
   "metadata": {},
   "outputs": [],
   "source": [
    "# Construct a list of meshes to pass into TetGen\n",
    "meshes = [mesh, box]"
   ]
  },
  {
   "cell_type": "code",
   "execution_count": 20,
   "metadata": {},
   "outputs": [
    {
     "name": "stdout",
     "output_type": "stream",
     "text": [
      "Number of vertices: 22095\n",
      "Number of Faces: 44182\n",
      "Number of Regions: 1\n",
      "Number of Holes: 1\n",
      "Region point: Tensor({0}:-17.0867; {1}:10.8037; {2}:-6.70996)\n",
      "Region point: Tensor({0}:-45.7933; {1}:17.4451; {2}:-17.4451)\n"
     ]
    }
   ],
   "source": [
    "# Call tetgen to tetrahedralize. The string represents command line arguments passed directly to TetGen.\n",
    "tetmesh = pygamer.makeTetMesh(meshes, \"q1.3/10O8/7AVC\")"
   ]
  },
  {
   "cell_type": "code",
   "execution_count": 21,
   "metadata": {},
   "outputs": [],
   "source": [
    "# pygamer.writeDolfin('outputTetMesh.xml', tetmesh)"
   ]
  },
  {
   "cell_type": "code",
   "execution_count": 25,
   "metadata": {},
   "outputs": [
    {
     "name": "stdout",
     "output_type": "stream",
     "text": [
      "Hull has is True orientable, False pseudomanifold, and contains 329 components.\n"
     ]
    }
   ],
   "source": [
    "toRemove = []\n",
    "# Iterate through and remove all vertices with y > 0\n",
    "for vertexID in tetmesh.vertexIDs:\n",
    "    if vertexID.data()[1] > 0:\n",
    "        toRemove.append(vertexID)\n",
    "# Remove the collected vertices. Since `tetmesh.vertexIDs` wraps a c++ iterator. \n",
    "# Removing a simplex in place will invalidate the iterator and lead to a segfault!\n",
    "for v in toRemove:\n",
    "    tetmesh.removeVertex(v)\n",
    "\n",
    "toRemove = []\n",
    "for vertexID in tetmesh.vertexIDs:\n",
    "    if not tetmesh.onBoundary(vertexID):\n",
    "        toRemove.append(vertexID)\n",
    "for edgeID in tetmesh.edgeIDs:\n",
    "    if not tetmesh.onBoundary(edgeID):\n",
    "        edgeID.data().selected = True      \n",
    "for v in toRemove:\n",
    "    tetmesh.removeVertex(v)\n",
    "\n",
    "toRemove = []\n",
    "for edgeID in tetmesh.edgeIDs:\n",
    "    if edgeID.data().selected:\n",
    "        toRemove.append(edgeID)\n",
    "for e in toRemove:\n",
    "        tetmesh.removeEdge(e)    \n",
    "    \n",
    "# # Convert tetmesh into SurfaceMesh\n",
    "hull = pygamer.surfacemesh.SurfaceMesh()\n",
    "for faceID in tetmesh.faceIDs:\n",
    "    data = faceID.data()\n",
    "    hull.insertFace(tetmesh.getName(faceID), \n",
    "                    pygamer.surfacemesh.Face(data.marker, data.selected))\n",
    "    \n",
    "for vertexID in tetmesh.vertexIDs:\n",
    "    data = vertexID.data()\n",
    "    \n",
    "    hull.insertVertex(tetmesh.getName(vertexID), \n",
    "                      pygamer.surfacemesh.Vertex(data[0], data[1], data[2], 0, False))\n",
    "\n",
    "components, o, pm = hull.compute_orientation()\n",
    "print(F\"Hull has is {o} orientable, {pm} pseudomanifold, and contains {components} components.\")\n",
    "hull.correctNormals()\n",
    "v, e, f = hull.to_ndarray()"
   ]
  },
  {
   "cell_type": "code",
   "execution_count": 26,
   "metadata": {},
   "outputs": [
    {
     "data": {
      "application/vnd.jupyter.widget-view+json": {
       "model_id": "d818573ed81748b4a692e45343d1cedb",
       "version_major": 2,
       "version_minor": 0
      },
      "text/plain": [
       "Renderer(background='#dddddd', camera=PerspectiveCamera(aspect=1.3333333333333333, children=(DirectionalLight(…"
      ]
     },
     "metadata": {},
     "output_type": "display_data"
    }
   ],
   "source": [
    "# Draw the protein and surrounding box together\n",
    "ctx = threevis.Context(width=640, height=480)\n",
    "ctx.draw_faces(v, f)\n",
    "ctx.draw_edges(v, e)\n",
    "ctx.display()"
   ]
  },
  {
   "cell_type": "code",
   "execution_count": null,
   "metadata": {},
   "outputs": [],
   "source": [
    "pygamer.writeOFF('test.off',hull)"
   ]
  },
  {
   "cell_type": "code",
   "execution_count": null,
   "metadata": {},
   "outputs": [],
   "source": []
  }
 ],
 "metadata": {
  "kernelspec": {
   "display_name": "Python 3",
   "language": "python",
   "name": "python3"
  },
  "language_info": {
   "codemirror_mode": {
    "name": "ipython",
    "version": 3
   },
   "file_extension": ".py",
   "mimetype": "text/x-python",
   "name": "python",
   "nbconvert_exporter": "python",
   "pygments_lexer": "ipython3",
   "version": "3.6.8"
  }
 },
 "nbformat": 4,
 "nbformat_minor": 2
}
