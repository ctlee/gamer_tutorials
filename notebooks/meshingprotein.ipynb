{
 "cells": [
  {
   "cell_type": "markdown",
   "metadata": {},
   "source": [
    "# Meshing a protein using PyGAMer\n",
    "\n",
    "This tutorial will walk you through the process of using PyGAMer to generate a tetrahedral mesh of the volume surrounding a protein. The protein of interest, PDBID 2JHO, is that of sperm whale myoglobin at 1.4Å resolution."
   ]
  },
  {
   "cell_type": "code",
   "execution_count": 1,
   "metadata": {},
   "outputs": [],
   "source": [
    "# Load in PyGAMer and numpy\n",
    "import pygamer\n",
    "import numpy as np"
   ]
  },
  {
   "cell_type": "code",
   "execution_count": 2,
   "metadata": {},
   "outputs": [],
   "source": [
    "# Mesh the protein of interest\n",
    "mesh = pygamer.readPDB_molsurf('../data/2jho.pdb')"
   ]
  },
  {
   "cell_type": "markdown",
   "metadata": {},
   "source": [
    "When using PyGAMer it's important to initialize the orientation of the simplices. Notably `compute_orientation()` will try to apply a self consistent set of orientations. In many cases, you may wish to ensure that the mesh normals are outward facing. This can be achieved by calling `correctNormals()` which essentially computes the volume of the bounded surface and flips the normals if the volume is negative."
   ]
  },
  {
   "cell_type": "code",
   "execution_count": 3,
   "metadata": {},
   "outputs": [],
   "source": [
    "# Compute the normal orientation\n",
    "mesh.compute_orientation()\n",
    "mesh.correctNormals()"
   ]
  },
  {
   "cell_type": "markdown",
   "metadata": {},
   "source": [
    "### Conditioning the protein mesh"
   ]
  },
  {
   "cell_type": "code",
   "execution_count": 4,
   "metadata": {},
   "outputs": [
    {
     "name": "stdout",
     "output_type": "stream",
     "text": [
      "Initial Quality: Min Angle = 18.2858, Max Angle = 139.106, # smaller-than-15 = 0, # larger-than-165 = 0\n",
      "Iteration 1:\n",
      "Min Angle = 16.9737, Max Angle = 131.859, # smaller-than-15 = 0, # larger-than-165 = 0\n",
      "Iteration 2:\n",
      "Min Angle = 17.7987, Max Angle = 130.704, # smaller-than-15 = 0, # larger-than-165 = 0\n",
      "Iteration 3:\n",
      "Min Angle = 18.8562, Max Angle = 129.027, # smaller-than-15 = 0, # larger-than-165 = 0\n",
      "Iteration 4:\n",
      "Min Angle = 19.0814, Max Angle = 127.025, # smaller-than-15 = 0, # larger-than-165 = 0\n",
      "Iteration 5:\n",
      "Min Angle = 19.3171, Max Angle = 124.929, # smaller-than-15 = 0, # larger-than-165 = 0\n"
     ]
    }
   ],
   "source": [
    "# Set selection of all vertices to True so smooth will operate on them.\n",
    "for v in mesh.vertexIDs:\n",
    "    v.data().selected = True\n",
    "# Apply 5 iterations of smoothing\n",
    "mesh.smooth(max_iter=5, preserve_ridges=True, verbose=True)"
   ]
  },
  {
   "cell_type": "code",
   "execution_count": 5,
   "metadata": {},
   "outputs": [
    {
     "name": "stdout",
     "output_type": "stream",
     "text": [
      "The mesh has 43080 vertices, 129234 edges, and 86156 faces before coarsening.\n"
     ]
    }
   ],
   "source": [
    "print(F\"The mesh has {mesh.nVertices} vertices, \\\n",
    "{mesh.nEdges} edges, and {mesh.nFaces} faces before coarsening.\")"
   ]
  },
  {
   "cell_type": "code",
   "execution_count": 6,
   "metadata": {},
   "outputs": [],
   "source": [
    "# Coarsen dense regions of the mesh\n",
    "mesh.coarse_dense(rate = 2.5, numiter = 5)\n",
    "# Coarsen flat regions of the mesh\n",
    "mesh.coarse_flat(rate = 0.016, numiter = 5)"
   ]
  },
  {
   "cell_type": "code",
   "execution_count": 7,
   "metadata": {},
   "outputs": [
    {
     "name": "stdout",
     "output_type": "stream",
     "text": [
      "The mesh has 20498 vertices, 61488 edges, and 40992 faces after coarsening.\n"
     ]
    }
   ],
   "source": [
    "print(F\"The mesh has {mesh.nVertices} vertices, \\\n",
    "{mesh.nEdges} edges, and {mesh.nFaces} faces after coarsening.\")"
   ]
  },
  {
   "cell_type": "code",
   "execution_count": 8,
   "metadata": {},
   "outputs": [
    {
     "name": "stdout",
     "output_type": "stream",
     "text": [
      "Initial Quality: Min Angle = 15.5887, Max Angle = 139.356, # smaller-than-15 = 0, # larger-than-165 = 0\n",
      "Iteration 1:\n",
      "Min Angle = 20.4, Max Angle = 130.963, # smaller-than-15 = 0, # larger-than-165 = 0\n",
      "Iteration 2:\n",
      "Min Angle = 21.7682, Max Angle = 129.883, # smaller-than-15 = 0, # larger-than-165 = 0\n",
      "Iteration 3:\n",
      "Min Angle = 23.4054, Max Angle = 127.068, # smaller-than-15 = 0, # larger-than-165 = 0\n",
      "Iteration 4:\n",
      "Min Angle = 24.6859, Max Angle = 125.947, # smaller-than-15 = 0, # larger-than-165 = 0\n",
      "Iteration 5:\n",
      "Min Angle = 25.408, Max Angle = 126.015, # smaller-than-15 = 0, # larger-than-165 = 0\n",
      "Iteration 6:\n",
      "Min Angle = 25.3919, Max Angle = 126.533, # smaller-than-15 = 0, # larger-than-165 = 0\n",
      "Iteration 7:\n",
      "Min Angle = 25.4584, Max Angle = 126.704, # smaller-than-15 = 0, # larger-than-165 = 0\n",
      "Iteration 8:\n",
      "Min Angle = 25.6435, Max Angle = 126.627, # smaller-than-15 = 0, # larger-than-165 = 0\n",
      "Iteration 9:\n",
      "Min Angle = 25.9052, Max Angle = 126.379, # smaller-than-15 = 0, # larger-than-165 = 0\n",
      "Iteration 10:\n",
      "Min Angle = 26.2136, Max Angle = 126.015, # smaller-than-15 = 0, # larger-than-165 = 0\n"
     ]
    }
   ],
   "source": [
    "# Smooth the mesh again.\n",
    "mesh.smooth(max_iter = 10, preserve_ridges = True, verbose = True)"
   ]
  },
  {
   "cell_type": "code",
   "execution_count": 9,
   "metadata": {},
   "outputs": [],
   "source": [
    "# Set boundary markers of the mesh to 23\n",
    "for faceID in mesh.faceIDs:\n",
    "    faceID.data().marker = 23"
   ]
  },
  {
   "cell_type": "code",
   "execution_count": 10,
   "metadata": {},
   "outputs": [],
   "source": [
    "# Get the root metadata\n",
    "gInfo = mesh.getRoot()\n",
    "gInfo.ishole = True    # Don't mesh the inside of \n",
    "gInfo.marker = -1"
   ]
  },
  {
   "cell_type": "code",
   "execution_count": 11,
   "metadata": {},
   "outputs": [],
   "source": [
    "# Center mesh at 0,0,0\n",
    "center, radius = mesh.getCenterRadius()\n",
    "mesh.translate(-center)"
   ]
  },
  {
   "cell_type": "markdown",
   "metadata": {},
   "source": [
    "## Visualizing the mesh with threevis"
   ]
  },
  {
   "cell_type": "code",
   "execution_count": 12,
   "metadata": {},
   "outputs": [
    {
     "data": {
      "application/vnd.jupyter.widget-view+json": {
       "model_id": "1979b6ea879740169ae6b1a4fe1f6ba9",
       "version_major": 2,
       "version_minor": 0
      },
      "text/plain": [
       "Renderer(background='#dddddd', camera=PerspectiveCamera(aspect=1.3333333333333333, children=(DirectionalLight(…"
      ]
     },
     "metadata": {},
     "output_type": "display_data"
    }
   ],
   "source": [
    "# Convert mesh to numpy arrays for visualization using threevis\n",
    "import threevis\n",
    "\n",
    "protverts, protedges, protfaces = mesh.to_ndarray()\n",
    "ctx = threevis.Context(width=640, height=480)\n",
    "ctx.draw_faces(protverts, protfaces)\n",
    "ctx.draw_edges(protverts, protedges)\n",
    "# Finally display it\n",
    "ctx.display()"
   ]
  },
  {
   "cell_type": "code",
   "execution_count": null,
   "metadata": {},
   "outputs": [],
   "source": []
  },
  {
   "cell_type": "markdown",
   "metadata": {},
   "source": [
    "## Now let's construct a bounding box to represent the cytosol around the protein"
   ]
  },
  {
   "cell_type": "code",
   "execution_count": 13,
   "metadata": {},
   "outputs": [],
   "source": [
    "# Generate a surrounding box\n",
    "box = pygamer.surfacemesh.cube(5)"
   ]
  },
  {
   "cell_type": "code",
   "execution_count": 14,
   "metadata": {},
   "outputs": [],
   "source": [
    "# Set box boundary markers to 50\n",
    "for faceID in box.faceIDs:\n",
    "    faceID.data().marker = 50"
   ]
  },
  {
   "cell_type": "code",
   "execution_count": 15,
   "metadata": {},
   "outputs": [],
   "source": [
    "# Get and set box metadata\n",
    "gInfo = box.getRoot()\n",
    "gInfo.ishole = False\n",
    "gInfo.marker = 5"
   ]
  },
  {
   "cell_type": "code",
   "execution_count": 16,
   "metadata": {},
   "outputs": [],
   "source": [
    "# Scale the box by 2 times the radius of the protein mesh\n",
    "box.scale(radius*2)"
   ]
  },
  {
   "cell_type": "code",
   "execution_count": 17,
   "metadata": {},
   "outputs": [
    {
     "data": {
      "application/vnd.jupyter.widget-view+json": {
       "model_id": "76f8a419eec44d7c9e80a3a03e5cd9df",
       "version_major": 2,
       "version_minor": 0
      },
      "text/plain": [
       "Renderer(background='#dddddd', camera=PerspectiveCamera(aspect=1.3333333333333333, children=(DirectionalLight(…"
      ]
     },
     "metadata": {},
     "output_type": "display_data"
    }
   ],
   "source": [
    "boxverts, boxedges, boxfaces = box.to_ndarray()\n",
    "ctx = threevis.Context(width=640, height=480)\n",
    "ctx.draw_faces(boxverts, boxfaces)\n",
    "ctx.draw_edges(boxverts, boxedges)\n",
    "# Finally display it\n",
    "ctx.display()"
   ]
  },
  {
   "cell_type": "code",
   "execution_count": 18,
   "metadata": {},
   "outputs": [
    {
     "data": {
      "application/vnd.jupyter.widget-view+json": {
       "model_id": "e77ab42a85c34a2e8c2fa6c16ccff78a",
       "version_major": 2,
       "version_minor": 0
      },
      "text/plain": [
       "Renderer(background='#dddddd', camera=PerspectiveCamera(aspect=1.3333333333333333, children=(DirectionalLight(…"
      ]
     },
     "metadata": {},
     "output_type": "display_data"
    }
   ],
   "source": [
    "# Draw the protein and surrounding box together\n",
    "ctx = threevis.Context(width=640, height=480)\n",
    "ctx.draw_faces(protverts, protfaces)\n",
    "ctx.draw_edges(boxverts, boxedges)\n",
    "ctx.display()"
   ]
  },
  {
   "cell_type": "markdown",
   "metadata": {},
   "source": [
    "Write the meshes to file...\n",
    "`pygamer.writeOFF('2jho.off', mesh)`\n",
    "`pygamer.writeOFF('box.off', box)`"
   ]
  },
  {
   "cell_type": "markdown",
   "metadata": {},
   "source": [
    "## Tetrahedralizing"
   ]
  },
  {
   "cell_type": "code",
   "execution_count": 19,
   "metadata": {},
   "outputs": [],
   "source": [
    "# Construct a list of meshes to pass into TetGen\n",
    "meshes = [mesh, box]"
   ]
  },
  {
   "cell_type": "code",
   "execution_count": 20,
   "metadata": {},
   "outputs": [
    {
     "name": "stdout",
     "output_type": "stream",
     "text": [
      "Number of vertices: 22036\n",
      "Number of Faces: 44064\n",
      "Number of Regions: 1\n",
      "Number of Holes: 1\n",
      "Region point: Tensor({0}:-15.8688; {1}:8.68286; {2}:11.6844)\n",
      "Region point: Tensor({0}:-45.6335; {1}:17.3842; {2}:-17.3842)\n"
     ]
    }
   ],
   "source": [
    "# Call tetgen to tetrahedralize. The string represents command line arguments passed directly to TetGen.\n",
    "tetmesh = pygamer.makeTetMesh(meshes, \"q1.3/10O8/7AVC\")"
   ]
  },
  {
   "cell_type": "code",
   "execution_count": 21,
   "metadata": {},
   "outputs": [],
   "source": [
    "# pygamer.writeDolfin('outputTetMesh.xml', tetmesh)"
   ]
  },
  {
   "cell_type": "code",
   "execution_count": 23,
   "metadata": {},
   "outputs": [],
   "source": [
    "toRemove = []\n",
    "for vertexID in tetmesh.vertexIDs:\n",
    "    if vertexID.data()[1] > 0:\n",
    "        toRemove.append(vertexID)\n",
    "for v in toRemove:\n",
    "    tetmesh.removeVertex(v)\n",
    "        \n",
    "surfmesh = tetmesh.extractSurface()\n",
    "surfmesh.correctNormals()\n",
    "\n",
    "v, e, f = surfmesh.to_ndarray()"
   ]
  },
  {
   "cell_type": "code",
   "execution_count": 27,
   "metadata": {},
   "outputs": [
    {
     "data": {
      "application/vnd.jupyter.widget-view+json": {
       "model_id": "62ae5089008f497a898c3397c7103d1b",
       "version_major": 2,
       "version_minor": 0
      },
      "text/plain": [
       "Renderer(background='#dddddd', camera=PerspectiveCamera(aspect=1.3333333333333333, children=(DirectionalLight(…"
      ]
     },
     "metadata": {},
     "output_type": "display_data"
    }
   ],
   "source": [
    "# Draw the protein and surrounding box together\n",
    "ctx = threevis.Context(width=640, height=480)\n",
    "\n",
    "rgb = np.ones((len(f), 3))\n",
    "\n",
    "for i, face in enumerate(surfmesh.faceIDs):\n",
    "    if face.data().marker == 23:\n",
    "        rgb[i,0] = 1\n",
    "        rgb[i,1] = 0\n",
    "        rgb[i,2] = 0\n",
    "    elif face.data().marker == 50:\n",
    "        rgb[i,0] = 0\n",
    "        rgb[i,1] = 0\n",
    "        rgb[i,2] = 1      \n",
    "        \n",
    "colors = threevis.FaceAttribute(rgb)\n",
    "\n",
    "ctx.draw_faces(v, f, colors=colors)\n",
    "ctx.draw_edges(v, e)\n",
    "ctx.display()"
   ]
  }
 ],
 "metadata": {
  "kernelspec": {
   "display_name": "Python 3",
   "language": "python",
   "name": "python3"
  },
  "language_info": {
   "codemirror_mode": {
    "name": "ipython",
    "version": 3
   },
   "file_extension": ".py",
   "mimetype": "text/x-python",
   "name": "python",
   "nbconvert_exporter": "python",
   "pygments_lexer": "ipython3",
   "version": "3.6.7"
  }
 },
 "nbformat": 4,
 "nbformat_minor": 2
}
