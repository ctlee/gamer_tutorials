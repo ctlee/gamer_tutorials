{
 "cells": [
  {
   "cell_type": "markdown",
   "metadata": {},
   "source": [
    "# Meshing a protein using PyGAMer\n",
    "\n",
    "This tutorial will walk you through the process of using PyGAMer to generate a tetrahedral mesh of the volume surrounding a protein. The protein of interest, PDBID 2JHO, is that of sperm whale myoglobin at 1.4Å resolution."
   ]
  },
  {
   "cell_type": "code",
   "execution_count": 1,
   "metadata": {},
   "outputs": [],
   "source": [
    "# Load in PyGAMer and numpy\n",
    "import pygamer\n",
    "import numpy as np"
   ]
  },
  {
   "cell_type": "code",
   "execution_count": 2,
   "metadata": {},
   "outputs": [],
   "source": [
    "# Mesh the protein of interest\n",
    "mesh = pygamer.readPDB_molsurf('../data/2jho.pdb')"
   ]
  },
  {
   "cell_type": "markdown",
   "metadata": {},
   "source": [
    "When using PyGAMer it's important to initialize the orientation of the simplices. Notably `compute_orientation()` will try to apply a self consistent set of orientations. In many cases, you may wish to ensure that the mesh normals are outward facing. This can be achieved by calling `correctNormals()` which essentially computes the volume of the bounded surface and flips the normals if the volume is negative."
   ]
  },
  {
   "cell_type": "code",
   "execution_count": 3,
   "metadata": {},
   "outputs": [],
   "source": [
    "# Compute the normal orientation\n",
    "mesh.compute_orientation()\n",
    "mesh.correctNormals()"
   ]
  },
  {
   "cell_type": "markdown",
   "metadata": {},
   "source": [
    "### Conditioning the protein mesh"
   ]
  },
  {
   "cell_type": "code",
   "execution_count": 4,
   "metadata": {},
   "outputs": [
    {
     "name": "stdout",
     "output_type": "stream",
     "text": [
      "Initial Quality: Min Angle = 18.2858, Max Angle = 139.106, # smaller-than-15 = 0, # larger-than-165 = 0\n",
      "Iteration 1:\n",
      "Min Angle = 16.9737, Max Angle = 131.859, # smaller-than-15 = 0, # larger-than-165 = 0\n",
      "Iteration 2:\n",
      "Min Angle = 17.7987, Max Angle = 130.704, # smaller-than-15 = 0, # larger-than-165 = 0\n",
      "Iteration 3:\n",
      "Min Angle = 18.8562, Max Angle = 129.027, # smaller-than-15 = 0, # larger-than-165 = 0\n",
      "Iteration 4:\n",
      "Min Angle = 19.0814, Max Angle = 127.025, # smaller-than-15 = 0, # larger-than-165 = 0\n",
      "Iteration 5:\n",
      "Min Angle = 19.3171, Max Angle = 124.929, # smaller-than-15 = 0, # larger-than-165 = 0\n"
     ]
    }
   ],
   "source": [
    "# Set selection of all vertices to True so smooth will operate on them.\n",
    "for v in mesh.vertexIDs:\n",
    "    v.data().selected = True\n",
    "# Apply 5 iterations of smoothing\n",
    "mesh.smooth(max_iter=5, preserve_ridges=True, verbose=True)"
   ]
  },
  {
   "cell_type": "code",
   "execution_count": 5,
   "metadata": {},
   "outputs": [
    {
     "name": "stdout",
     "output_type": "stream",
     "text": [
      "The mesh has 43080 vertices, 129234 edges, and 86156 faces before coarsening.\n"
     ]
    }
   ],
   "source": [
    "print(F\"The mesh has {mesh.nVertices} vertices, \\\n",
    "{mesh.nEdges} edges, and {mesh.nFaces} faces before coarsening.\")"
   ]
  },
  {
   "cell_type": "code",
   "execution_count": 6,
   "metadata": {},
   "outputs": [],
   "source": [
    "# Coarsen dense regions of the mesh\n",
    "mesh.coarse_dense(rate = 2.5, numiter = 5)\n",
    "# Coarsen flat regions of the mesh\n",
    "mesh.coarse_flat(rate = 0.016, numiter = 5)"
   ]
  },
  {
   "cell_type": "code",
   "execution_count": 7,
   "metadata": {},
   "outputs": [
    {
     "name": "stdout",
     "output_type": "stream",
     "text": [
      "The mesh has 20443 vertices, 61323 edges, and 40882 faces after coarsening.\n"
     ]
    }
   ],
   "source": [
    "print(F\"The mesh has {mesh.nVertices} vertices, \\\n",
    "{mesh.nEdges} edges, and {mesh.nFaces} faces after coarsening.\")"
   ]
  },
  {
   "cell_type": "code",
   "execution_count": 8,
   "metadata": {},
   "outputs": [
    {
     "name": "stdout",
     "output_type": "stream",
     "text": [
      "Initial Quality: Min Angle = 13.4182, Max Angle = 145.396, # smaller-than-15 = 1, # larger-than-165 = 0\n",
      "Iteration 1:\n",
      "Min Angle = 17.898, Max Angle = 133.063, # smaller-than-15 = 0, # larger-than-165 = 0\n",
      "Iteration 2:\n",
      "Min Angle = 19.8771, Max Angle = 127.742, # smaller-than-15 = 0, # larger-than-165 = 0\n",
      "Iteration 3:\n",
      "Min Angle = 21.9196, Max Angle = 128.362, # smaller-than-15 = 0, # larger-than-165 = 0\n",
      "Iteration 4:\n",
      "Min Angle = 22.0856, Max Angle = 128.464, # smaller-than-15 = 0, # larger-than-165 = 0\n",
      "Iteration 5:\n",
      "Min Angle = 22.2558, Max Angle = 128.166, # smaller-than-15 = 0, # larger-than-165 = 0\n",
      "Iteration 6:\n",
      "Min Angle = 22.6252, Max Angle = 127.548, # smaller-than-15 = 0, # larger-than-165 = 0\n",
      "Iteration 7:\n",
      "Min Angle = 23.063, Max Angle = 126.675, # smaller-than-15 = 0, # larger-than-165 = 0\n",
      "Iteration 8:\n",
      "Min Angle = 23.5016, Max Angle = 125.613, # smaller-than-15 = 0, # larger-than-165 = 0\n",
      "Iteration 9:\n",
      "Min Angle = 23.9163, Max Angle = 124.529, # smaller-than-15 = 0, # larger-than-165 = 0\n",
      "Iteration 10:\n",
      "Min Angle = 24.3026, Max Angle = 124.209, # smaller-than-15 = 0, # larger-than-165 = 0\n"
     ]
    }
   ],
   "source": [
    "# Smooth the mesh again. Note there's no need to \n",
    "mesh.smooth(max_iter = 10, preserve_ridges = True, verbose = True)"
   ]
  },
  {
   "cell_type": "code",
   "execution_count": 9,
   "metadata": {},
   "outputs": [],
   "source": [
    "# Set boundary markers of the mesh to 23\n",
    "for faceID in mesh.faceIDs:\n",
    "    faceID.data().marker = 23"
   ]
  },
  {
   "cell_type": "code",
   "execution_count": 10,
   "metadata": {},
   "outputs": [],
   "source": [
    "# Get the root metadata\n",
    "gInfo = mesh.getRoot()\n",
    "gInfo.ishole = True    # Don't mesh the inside of \n",
    "gInfo.marker = -1"
   ]
  },
  {
   "cell_type": "code",
   "execution_count": 11,
   "metadata": {},
   "outputs": [],
   "source": [
    "# Center mesh at 0,0,0\n",
    "center, radius = mesh.getCenterRadius()\n",
    "mesh.translate(-center)"
   ]
  },
  {
   "cell_type": "markdown",
   "metadata": {},
   "source": [
    "## Visualizing the mesh with threevis"
   ]
  },
  {
   "cell_type": "code",
   "execution_count": 12,
   "metadata": {},
   "outputs": [
    {
     "data": {
      "application/vnd.jupyter.widget-view+json": {
       "model_id": "9a68b0b0f3dd427f814e1f2f41da3af0",
       "version_major": 2,
       "version_minor": 0
      },
      "text/plain": [
       "Renderer(background='#dddddd', camera=PerspectiveCamera(aspect=1.3333333333333333, children=(DirectionalLight(…"
      ]
     },
     "metadata": {},
     "output_type": "display_data"
    }
   ],
   "source": [
    "# Convert mesh to numpy arrays for visualization using threevis\n",
    "import threevis\n",
    "\n",
    "protverts, protedges, protfaces = mesh.to_ndarray()\n",
    "ctx = threevis.Context(width=640, height=480)\n",
    "ctx.draw_faces(protverts, protfaces)\n",
    "ctx.draw_edges(protverts, protedges)\n",
    "# Finally display it\n",
    "ctx.display()"
   ]
  },
  {
   "cell_type": "markdown",
   "metadata": {},
   "source": [
    "## Now let's construct a bounding box to represent the cytosol around the protein"
   ]
  },
  {
   "cell_type": "code",
   "execution_count": 13,
   "metadata": {},
   "outputs": [],
   "source": [
    "# Generate a surrounding box\n",
    "box = pygamer.surfacemesh.cube(5)"
   ]
  },
  {
   "cell_type": "code",
   "execution_count": 14,
   "metadata": {},
   "outputs": [],
   "source": [
    "# Set box boundary markers to 50\n",
    "for faceID in box.faceIDs:\n",
    "    faceID.data().marker = 50"
   ]
  },
  {
   "cell_type": "code",
   "execution_count": 15,
   "metadata": {},
   "outputs": [],
   "source": [
    "# Get and set box metadata\n",
    "gInfo = box.getRoot()\n",
    "gInfo.ishole = False\n",
    "gInfo.marker = 5"
   ]
  },
  {
   "cell_type": "code",
   "execution_count": 16,
   "metadata": {},
   "outputs": [],
   "source": [
    "# Scale the box by 2 times the radius of the protein mesh\n",
    "box.scale(radius*2)"
   ]
  },
  {
   "cell_type": "code",
   "execution_count": 17,
   "metadata": {},
   "outputs": [
    {
     "data": {
      "application/vnd.jupyter.widget-view+json": {
       "model_id": "86393cb2e6454337a12b2541d86034c2",
       "version_major": 2,
       "version_minor": 0
      },
      "text/plain": [
       "Renderer(background='#dddddd', camera=PerspectiveCamera(aspect=1.3333333333333333, children=(DirectionalLight(…"
      ]
     },
     "metadata": {},
     "output_type": "display_data"
    }
   ],
   "source": [
    "boxverts, boxedges, boxfaces = box.to_ndarray()\n",
    "ctx = threevis.Context(width=640, height=480)\n",
    "ctx.draw_faces(boxverts, boxfaces)\n",
    "ctx.draw_edges(boxverts, boxedges)\n",
    "# Finally display it\n",
    "ctx.display()"
   ]
  },
  {
   "cell_type": "code",
   "execution_count": 18,
   "metadata": {},
   "outputs": [
    {
     "data": {
      "application/vnd.jupyter.widget-view+json": {
       "model_id": "52ee5626df5d435cb68dddc1816bb1d0",
       "version_major": 2,
       "version_minor": 0
      },
      "text/plain": [
       "Renderer(background='#dddddd', camera=PerspectiveCamera(aspect=1.3333333333333333, children=(DirectionalLight(…"
      ]
     },
     "metadata": {},
     "output_type": "display_data"
    }
   ],
   "source": [
    "# Draw the protein and surrounding box together\n",
    "ctx = threevis.Context(width=640, height=480)\n",
    "ctx.draw_faces(protverts, protfaces)\n",
    "ctx.draw_edges(boxverts, boxedges)\n",
    "ctx.display()"
   ]
  },
  {
   "cell_type": "markdown",
   "metadata": {},
   "source": [
    "Write the meshes to file...\n",
    "`pygamer.writeOFF('2jho.off', mesh)`\n",
    "`pygamer.writeOFF('box.off', box)`"
   ]
  },
  {
   "cell_type": "markdown",
   "metadata": {},
   "source": [
    "## Tetrahedralizing"
   ]
  },
  {
   "cell_type": "code",
   "execution_count": 19,
   "metadata": {},
   "outputs": [],
   "source": [
    "# Construct a list of meshes to pass into TetGen\n",
    "meshes = [mesh, box]"
   ]
  },
  {
   "cell_type": "code",
   "execution_count": 20,
   "metadata": {},
   "outputs": [
    {
     "name": "stdout",
     "output_type": "stream",
     "text": [
      "Number of vertices: 21981\n",
      "Number of Faces: 43954\n",
      "Number of Regions: 1\n",
      "Number of Holes: 1\n",
      "Region point: Tensor({0}:-11.8786; {1}:16.02; {2}:-0.0702048)\n",
      "Region point: Tensor({0}:-45.7835; {1}:17.4413; {2}:-17.4413)\n"
     ]
    }
   ],
   "source": [
    "# Call tetgen to tetrahedralize. The string represents command line arguments passed directly to TetGen.\n",
    "tetmesh = pygamer.makeTetMesh(meshes, \"q1.3/10O8/7AVC\")"
   ]
  },
  {
   "cell_type": "code",
   "execution_count": 21,
   "metadata": {},
   "outputs": [],
   "source": [
    "# pygamer.writeDolfin('outputTetMesh.xml', tetmesh)"
   ]
  },
  {
   "cell_type": "code",
   "execution_count": null,
   "metadata": {},
   "outputs": [],
   "source": [
    "# Demo the surface by slicing and extracting surface\n",
    "for vertexID in tetmesh.vertexIDs:\n",
    "    data = vertexID.data()\n",
    "    if data[1] > 0:\n",
    "        tetmesh.removeVertex(vertexID)\n",
    "        print(tetmesh.nVertices)\n",
    "print(\"Done slicing\")\n",
    "\n",
    "# for vertexID in tetmesh.vertexIDs:\n",
    "#     if not tetmesh.onBoundary(vertexID):\n",
    "#         print(vertexID)\n",
    "#         tetmesh.removeVertex(vertexID)\n",
    "\n",
    "# Convert tetmesh into SurfaceMesh\n",
    "hull = pygamer.surfacemesh.SurfaceMesh()\n",
    "for faceID in tetmesh.faceIDs:\n",
    "    data = faceID.data()\n",
    "    hull.insertFace(tetmesh.getName(faceID), Face(data.marker, data.selected))\n",
    "    \n",
    "for vertexID in tetmesh.vertexIDs:\n",
    "    data = vertexID.data()\n",
    "    hull.insertVertex(tetmesh.getName(vertexID), Vertex(data[0], data[1], data[2], 0, false))\n",
    "    \n",
    "v, e, f = hull.to_ndarray()"
   ]
  },
  {
   "cell_type": "code",
   "execution_count": null,
   "metadata": {},
   "outputs": [],
   "source": [
    "print(v)"
   ]
  },
  {
   "cell_type": "code",
   "execution_count": null,
   "metadata": {},
   "outputs": [],
   "source": [
    "# Draw the protein and surrounding box together\n",
    "ctx = threevis.Context(width=640, height=480)\n",
    "ctx.draw_faces(v, f)\n",
    "ctx.draw_edges(v, e)\n",
    "ctx.display()"
   ]
  },
  {
   "cell_type": "code",
   "execution_count": null,
   "metadata": {},
   "outputs": [],
   "source": []
  }
 ],
 "metadata": {
  "kernelspec": {
   "display_name": "Python 3",
   "language": "python",
   "name": "python3"
  },
  "language_info": {
   "codemirror_mode": {
    "name": "ipython",
    "version": 3
   },
   "file_extension": ".py",
   "mimetype": "text/x-python",
   "name": "python",
   "nbconvert_exporter": "python",
   "pygments_lexer": "ipython3",
   "version": "3.6.7"
  }
 },
 "nbformat": 4,
 "nbformat_minor": 2
}
